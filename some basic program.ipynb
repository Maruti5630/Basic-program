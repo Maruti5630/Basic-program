{
 "cells": [
  {
   "cell_type": "code",
   "execution_count": 3,
   "id": "38c99e4a",
   "metadata": {},
   "outputs": [
    {
     "name": "stdout",
     "output_type": "stream",
     "text": [
      "enter numbers4\n",
      "5\n",
      "sum= 9\n"
     ]
    }
   ],
   "source": [
    "#1 sum of two numbers\n",
    "a=int(input(\"enter numbers\"))\n",
    "b=int(input())\n",
    "a=a+b\n",
    "print(\"sum=\",a)"
   ]
  },
  {
   "cell_type": "code",
   "execution_count": 7,
   "id": "4d76b793",
   "metadata": {},
   "outputs": [
    {
     "name": "stdout",
     "output_type": "stream",
     "text": [
      "Hello World!\n"
     ]
    }
   ],
   "source": [
    "#2 Hello World\n",
    "print(\"Hello World!\")"
   ]
  },
  {
   "cell_type": "code",
   "execution_count": 6,
   "id": "94cbedd4",
   "metadata": {},
   "outputs": [
    {
     "name": "stdout",
     "output_type": "stream",
     "text": [
      "enter no. to find square root246\n",
      "sqrt= 15.684387141358123\n"
     ]
    }
   ],
   "source": [
    "#3 square root\n",
    "n=int(input(\"enter no. to find square root\"))\n",
    "n=(n**(1.0/2))\n",
    "print(\"sqrt=\",n)"
   ]
  },
  {
   "cell_type": "code",
   "execution_count": 11,
   "id": "007e984b",
   "metadata": {},
   "outputs": [
    {
     "name": "stdout",
     "output_type": "stream",
     "text": [
      "enter a=5\n",
      "enter b=7\n",
      "a= 7 b= 5\n"
     ]
    }
   ],
   "source": [
    "#4 swap two numbers\n",
    "a=int(input(\"enter a=\"))\n",
    "b=int(input(\"enter b=\"))\n",
    "a,b=b,a\n",
    "print(\"a=\", a,\"b=\", b)\n"
   ]
  },
  {
   "cell_type": "code",
   "execution_count": 11,
   "id": "5b23f4a3",
   "metadata": {},
   "outputs": [
    {
     "name": "stdout",
     "output_type": "stream",
     "text": [
      "enter kilometer=4\n",
      "km= 4 miles= 2.484\n"
     ]
    }
   ],
   "source": [
    "#5 kilometers to miles\n",
    "n=int(input(\"enter kilometer=\"))\n",
    "m=n*(0.621)\n",
    "print(\"km=\",n,\"miles=\",m)"
   ]
  },
  {
   "cell_type": "code",
   "execution_count": 16,
   "id": "52621802",
   "metadata": {},
   "outputs": [
    {
     "name": "stdout",
     "output_type": "stream",
     "text": [
      "enter celcius degree100\n",
      "c= 100 f= 212.0\n"
     ]
    }
   ],
   "source": [
    "#6 celcius to fahrenheit\n",
    "n=int(input(\"enter celcius degree\"))\n",
    "m=n*(9/5)+32\n",
    "print(\"c=\",n,\"f=\",m)"
   ]
  },
  {
   "cell_type": "code",
   "execution_count": 18,
   "id": "04d15530",
   "metadata": {},
   "outputs": [
    {
     "name": "stdout",
     "output_type": "stream",
     "text": [
      "enter number-2\n",
      "number is negative\n"
     ]
    }
   ],
   "source": [
    "#7 number is +ive -ive or 0\n",
    "n=int(input(\"enter number\"))\n",
    "if(n==0):\n",
    "    print(\"number is zero\")\n",
    "elif(n<0):\n",
    "    print(\"number is negative\")\n",
    "else:\n",
    "    print(\"number is positive\")"
   ]
  },
  {
   "cell_type": "code",
   "execution_count": 20,
   "id": "301b356d",
   "metadata": {},
   "outputs": [
    {
     "name": "stdout",
     "output_type": "stream",
     "text": [
      "enter number3\n",
      "odd\n"
     ]
    }
   ],
   "source": [
    "#8 odd or even\n",
    "n=int(input(\"enter number\"))\n",
    "if(n%2==0):\n",
    "    print(\"even\")\n",
    "else:\n",
    "    print(\"odd\")"
   ]
  },
  {
   "cell_type": "code",
   "execution_count": 8,
   "id": "d58a406b",
   "metadata": {},
   "outputs": [
    {
     "name": "stdout",
     "output_type": "stream",
     "text": [
      "apple\n",
      "cherry\n",
      "5\n",
      "9\n",
      "True\n",
      "False\n"
     ]
    }
   ],
   "source": [
    "#9 slice list\n",
    "l1=[\"apple\", \"banana\", \"apple\", \"cherry\", \"cherry\",1, 5, 7, 9, 3,True, False, False]\n",
    "for i in range (2,len(l1),2):\n",
    "    print(l1[i]) "
   ]
  },
  {
   "cell_type": "code",
   "execution_count": 3,
   "id": "d53d59e3",
   "metadata": {},
   "outputs": [
    {
     "name": "stdout",
     "output_type": "stream",
     "text": [
      "enter the 1st number3\n",
      "enter the 2nd number2\n",
      "enter the 3rd number4\n",
      "c is greater\n"
     ]
    }
   ],
   "source": [
    "#10 greatest number between three\n",
    "a=int(input(\"enter the 1st number\"))\n",
    "b=int(input(\"enter the 2nd number\"))\n",
    "c=int(input(\"enter the 3rd number\"))\n",
    "if(a>b and  a>c):\n",
    "    print(\"a is greater\")\n",
    "elif(b>a and b>c):\n",
    "    print(\"b is greater\")\n",
    "else:\n",
    "    print(\"c is greater\")"
   ]
  },
  {
   "cell_type": "code",
   "execution_count": 6,
   "id": "c4d990de",
   "metadata": {},
   "outputs": [
    {
     "name": "stdout",
     "output_type": "stream",
     "text": [
      "enter no. to check prime7\n",
      "no. is prime\n"
     ]
    }
   ],
   "source": [
    "#11 check prime number\n",
    "a=int(input(\"enter no. to check prime \"))\n",
    "f=0\n",
    "for i in range(2,a-1):\n",
    "    if(a%i==0):\n",
    "        f=1\n",
    "if(f==0):\n",
    "    print(\"number is prime\")\n",
    "else:\n",
    "    print(\"number is not prime\")"
   ]
  },
  {
   "cell_type": "code",
   "execution_count": 8,
   "id": "fd602835",
   "metadata": {},
   "outputs": [
    {
     "name": "stdout",
     "output_type": "stream",
     "text": [
      "enter lower limit of interval to check prime1\n",
      "enter upper limit 100\n",
      "[1, 2, 3, 5, 7, 11, 13, 17, 19, 23, 29, 31, 37, 41, 43, 47, 53, 59, 61, 67, 71, 73, 79, 83, 89, 97]\n",
      "sum= 1061\n"
     ]
    }
   ],
   "source": [
    "#12 sum of prime no. between interval\n",
    "a=int(input(\"enter lower limit of interval to check prime\"))\n",
    "b=int(input(\"enter upper limit\"))\n",
    "l1=[]\n",
    "sum=0\n",
    "for j in range(a,b):\n",
    "    f=0\n",
    "    for i in range(2,j):\n",
    "        if j%i==0:\n",
    "            f=1\n",
    "            break\n",
    "    if f==0:  \n",
    "        l1.append(j) \n",
    "        sum+=j\n",
    "print(l1)\n",
    "print(\"sum=\",sum)"
   ]
  },
  {
   "cell_type": "code",
   "execution_count": 4,
   "id": "2c27f0ef",
   "metadata": {},
   "outputs": [
    {
     "name": "stdout",
     "output_type": "stream",
     "text": [
      "enter number to find factorial  5\n",
      "120\n"
     ]
    }
   ],
   "source": [
    "#13 factorial\n",
    "def fact(n):\n",
    "    if n==0 or n==1:\n",
    "        return 1\n",
    "    else:\n",
    "        return n*fact(n-1)\n",
    "n=int(input(\"enter number to find factorial  \"))\n",
    "print(fact(n))"
   ]
  },
  {
   "cell_type": "code",
   "execution_count": 50,
   "id": "5e11ecc0",
   "metadata": {},
   "outputs": [
    {
     "name": "stdout",
     "output_type": "stream",
     "text": [
      "enter number whose multiplication table you want 5\n",
      "enter last number upto which you find  10\n",
      "5\n",
      "10\n",
      "15\n",
      "20\n",
      "25\n",
      "30\n",
      "35\n",
      "40\n",
      "45\n",
      "50\n"
     ]
    }
   ],
   "source": [
    "#14 multiplication table\n",
    "m=int(input(\"enter number whose multiplication table you want \"))\n",
    "n=int(input(\"enter last number upto which you find  \"))\n",
    "for i in range (0,n):\n",
    "    print(m*(i+1))"
   ]
  },
  {
   "cell_type": "code",
   "execution_count": 6,
   "id": "a62aff62",
   "metadata": {},
   "outputs": [
    {
     "name": "stdout",
     "output_type": "stream",
     "text": [
      "enter number where you want fibonacci6\n",
      "0 1 1 2 3 5 "
     ]
    }
   ],
   "source": [
    "#15 fibonacci sequence\n",
    "n=int(input(\"enter number where you want fibonacci\")) \n",
    "def fibo(n):\n",
    "    if n==1 or n==2:\n",
    "        return (n-1)\n",
    "    else:\n",
    "        return (fibo(n-1)+fibo(n-2))\n",
    "\n",
    "for i in range(n):\n",
    "    print(fibo(i+1),end=' ')"
   ]
  },
  {
   "cell_type": "code",
   "execution_count": 94,
   "id": "bb7b5280",
   "metadata": {},
   "outputs": [
    {
     "name": "stdout",
     "output_type": "stream",
     "text": [
      "enter 3-digit number to check armstrong  371\n",
      "371\n",
      "371 is an Armstrong number\n"
     ]
    }
   ],
   "source": [
    "#16 armstrong number\n",
    "n=int(input(\"enter 3-digit number to check armstrong  \"))\n",
    "a=n\n",
    "s=0\n",
    "while n>0:\n",
    "    r=n%10\n",
    "    n//=10\n",
    "    s+=(r**3)\n",
    "if a == s:\n",
    "   print(a,\"is an Armstrong number\")\n",
    "else:\n",
    "   print(a,\"is not an Armstrong number\")"
   ]
  },
  {
   "cell_type": "code",
   "execution_count": 97,
   "id": "0496e01d",
   "metadata": {},
   "outputs": [
    {
     "name": "stdout",
     "output_type": "stream",
     "text": [
      "enter 3-digit lower limit of interval to armstrong number  1\n",
      "enter 3-digit number as upper limit to check armstrong  400\n",
      "[1, 153, 370, 371]\n"
     ]
    }
   ],
   "source": [
    "#17 armstrong number in interval\n",
    "m=int(input('enter lower limit of interval to check armstrong number  '))\n",
    "n=int(input(\"enter 3-digit number as upper limit to check armstrong  \"))\n",
    "l1=[]\n",
    "for i in range(m,n):\n",
    "    a=i\n",
    "    s=0\n",
    "    while i>0:\n",
    "        r=i%10\n",
    "        i//=10\n",
    "        s+=(r**3)\n",
    "    if a == s:\n",
    "        l1.append(a)\n",
    "    else:\n",
    "        pass\n",
    "print(l1)"
   ]
  },
  {
   "cell_type": "code",
   "execution_count": 99,
   "id": "73814f1d",
   "metadata": {},
   "outputs": [
    {
     "name": "stdout",
     "output_type": "stream",
     "text": [
      "enter number upto which you want sum of natural number10\n",
      "55\n"
     ]
    }
   ],
   "source": [
    "#18 sum of natural number\n",
    "n=int(input('enter number upto which you want sum of natural number '))\n",
    "s=0\n",
    "for i in range(n):\n",
    "    s+=i+1\n",
    "print(s)    "
   ]
  },
  {
   "cell_type": "code",
   "execution_count": 103,
   "id": "e39501a1",
   "metadata": {},
   "outputs": [
    {
     "name": "stdout",
     "output_type": "stream",
     "text": [
      "enter number9\n",
      "0\n"
     ]
    }
   ],
   "source": [
    "#19 display power of two \n",
    "n=int(input('enter number '))\n",
    "c=0\n",
    "while n>0:\n",
    "    if n%2==0:\n",
    "        n/=2\n",
    "        c+=1\n",
    "    else:\n",
    "        break\n",
    "print(c)        "
   ]
  },
  {
   "cell_type": "code",
   "execution_count": 108,
   "id": "5d5c1009",
   "metadata": {},
   "outputs": [
    {
     "name": "stdout",
     "output_type": "stream",
     "text": [
      "enter number5\n",
      "25\n"
     ]
    }
   ],
   "source": [
    "#19(alter) display power of 2 using anonymous function\n",
    "n=int(input(\"enter number\"))\n",
    "d=lambda n : n**2\n",
    "print(d(n))"
   ]
  },
  {
   "cell_type": "code",
   "execution_count": 121,
   "id": "aa87cc4b",
   "metadata": {},
   "outputs": [
    {
     "name": "stdout",
     "output_type": "stream",
     "text": [
      "enter 1st number12\n",
      "enter 2nd number14\n",
      "HCF of  12 & 14 is 2\n"
     ]
    }
   ],
   "source": [
    "#20 hcf or gcd of two number\n",
    "m=int(input(\"enter 1st number\"))\n",
    "n=int(input(\"enter 2nd number\"))\n",
    "l1=[]\n",
    "l2=[]\n",
    "l3=[]\n",
    "for i in range(1,m+1):\n",
    "    if m%i==0:\n",
    "        l1.append(i)\n",
    "for i in range(1,n+1):\n",
    "    if n%i==0:\n",
    "        l2.append(i)\n",
    "for i in l1:\n",
    "    for j in l2:\n",
    "        if i==j:\n",
    "            l3.append(i)\n",
    "print('HCF of ',m,\"&\",n,'is',l3[-1])        "
   ]
  },
  {
   "cell_type": "code",
   "execution_count": 126,
   "id": "0e64321a",
   "metadata": {},
   "outputs": [
    {
     "name": "stdout",
     "output_type": "stream",
     "text": [
      "enter number whose factor is required 12\n",
      "factors of 12 is [1, 2, 3, 4, 6, 12]\n"
     ]
    }
   ],
   "source": [
    "#21 factors of a number\n",
    "n=int(input(\"enter number whose factor is required \"))\n",
    "l1=[]\n",
    "for i in range(1,n+1):\n",
    "    if n%i==0:\n",
    "        l1.append(i)\n",
    "print(\"factors of\",m,\"is\",l1)        "
   ]
  },
  {
   "cell_type": "code",
   "execution_count": 129,
   "id": "41a3d22a",
   "metadata": {},
   "outputs": [
    {
     "name": "stdout",
     "output_type": "stream",
     "text": [
      "enter 1st number5\n",
      "enter operation which will perform+\n",
      "enter 2nd number3\n",
      "8\n"
     ]
    }
   ],
   "source": [
    "#22 simple calculator\n",
    "m=int(input(\"enter 1st number\"))\n",
    "o=input(\"enter operation which will perform\")\n",
    "n=int(input(\"enter 2nd number\"))\n",
    "if(o== '+'):\n",
    "    m+=n\n",
    "elif(o=='-'):\n",
    "    m-=n\n",
    "elif(o=='*'):\n",
    "    m*=n\n",
    "elif(o=='/'):\n",
    "    m/=n\n",
    "elif(o=='//'):\n",
    "    m//=n\n",
    "elif(o=='%'):\n",
    "    m%=n\n",
    "else:\n",
    "    m**=n\n",
    "print(m)    "
   ]
  },
  {
   "cell_type": "code",
   "execution_count": 3,
   "id": "2c498d96",
   "metadata": {},
   "outputs": [
    {
     "name": "stdout",
     "output_type": "stream",
     "text": [
      "enter year2020\n",
      "enter month6\n",
      "     June 2020\n",
      "Mo Tu We Th Fr Sa Su\n",
      " 1  2  3  4  5  6  7\n",
      " 8  9 10 11 12 13 14\n",
      "15 16 17 18 19 20 21\n",
      "22 23 24 25 26 27 28\n",
      "29 30\n",
      "\n"
     ]
    }
   ],
   "source": [
    "#23 calender\n",
    "year=int(input(\"enter year\"))\n",
    "month=int(input(\"enter month\"))\n",
    "import calendar\n",
    "print(calendar.month(year,month))  "
   ]
  },
  {
   "cell_type": "code",
   "execution_count": 5,
   "id": "47105895",
   "metadata": {},
   "outputs": [
    {
     "name": "stdout",
     "output_type": "stream",
     "text": [
      "enter number where you want fibonacci5\n",
      "0 1 1 2 3 "
     ]
    }
   ],
   "source": [
    "#24 fibonacci sequence using recursion\n",
    "n=int(input(\"enter number where you want fibonacci\")) \n",
    "def fibo(n):\n",
    "    if n==1 or n==2:\n",
    "        return (n-1)\n",
    "    else:\n",
    "        return (fibo(n-1)+fibo(n-2))\n",
    "\n",
    "for i in range(n):\n",
    "    print(fibo(i+1),end=' ')"
   ]
  },
  {
   "cell_type": "code",
   "execution_count": 10,
   "id": "86a06993",
   "metadata": {},
   "outputs": [
    {
     "name": "stdout",
     "output_type": "stream",
     "text": [
      "enter number10\n",
      "The sum is 55\n"
     ]
    }
   ],
   "source": [
    "#25 sum of natural number using recursion\n",
    "\n",
    "def recur(n):\n",
    "   if n <= 1:\n",
    "       return n\n",
    "   else:\n",
    "       return n + recur(n-1)\n",
    "n=int(input('enter number'))\n",
    "if n < 0:\n",
    "   print(\"Enter a positive number\")\n",
    "else:\n",
    "   print(\"The sum is\",recur(n))"
   ]
  },
  {
   "cell_type": "code",
   "execution_count": 2,
   "id": "53bc97ed",
   "metadata": {},
   "outputs": [
    {
     "name": "stdout",
     "output_type": "stream",
     "text": [
      "enter number to find factorial  5\n",
      "120\n"
     ]
    }
   ],
   "source": [
    "#26 factorial using recursion\n",
    "def fact(n):\n",
    "    if n==0 or n==1:\n",
    "        return 1\n",
    "    else:\n",
    "        return n*fact(n-1)\n",
    "n=int(input(\"enter number to find factorial  \"))\n",
    "print(fact(n))"
   ]
  },
  {
   "cell_type": "code",
   "execution_count": 7,
   "id": "d210fefd",
   "metadata": {},
   "outputs": [
    {
     "name": "stdout",
     "output_type": "stream",
     "text": [
      "enter stringasdsa\n",
      "polindrime string\n"
     ]
    }
   ],
   "source": [
    "#27 polindrome string\n",
    "n=input(\"enter string \")\n",
    "for i in range(len(n)):\n",
    "    a=n[::-1]\n",
    "if(a==n):\n",
    "    print(\"polindrome string\")\n",
    "else:\n",
    "    print('not polindrome')"
   ]
  },
  {
   "cell_type": "code",
   "execution_count": 4,
   "id": "1abc597b",
   "metadata": {},
   "outputs": [
    {
     "name": "stdout",
     "output_type": "stream",
     "text": [
      "enter string valuesjjfdsnsd\n",
      "['d', 'd', 'f', 'j', 'j', 'n', 's', 's']\n"
     ]
    }
   ],
   "source": [
    "#28 sort words in alphabetic order\n",
    "a=input(\"enter string values\")\n",
    "print(sorted(a))"
   ]
  },
  {
   "cell_type": "code",
   "execution_count": 10,
   "id": "9009881c",
   "metadata": {},
   "outputs": [
    {
     "name": "stdout",
     "output_type": "stream",
     "text": [
      "input string value to count no. of vowelasdioue\n",
      "5\n"
     ]
    }
   ],
   "source": [
    "#29 count the no. of each vowel \n",
    "n=input(\"input string value to count no. of vowel \")\n",
    "n=(sorted(n))\n",
    "c=0\n",
    "l=['a','e','i','o','u','A','E','I','O','U']\n",
    "for i in l:\n",
    "    for j in n:\n",
    "        if(i==j):\n",
    "            c+=1\n",
    "print(c)            "
   ]
  },
  {
   "cell_type": "code",
   "execution_count": 55,
   "id": "b9b86d64",
   "metadata": {},
   "outputs": [
    {
     "name": "stdout",
     "output_type": "stream",
     "text": [
      "enter no. of rows 5\n",
      "        * \n",
      "      * * * \n",
      "    * * * * * \n",
      "  * * * * * * * \n"
     ]
    }
   ],
   "source": [
    "#30 create a pyramid pattern\n",
    "n=int(input(\"enter no. of rows \"))\n",
    "a=0\n",
    "for i in range(1,n):\n",
    "    for j in range(n-i):\n",
    "        print(\" \",end=\" \")\n",
    "    while a!=(2*i-1):\n",
    "        print(\"*\",end=\" \")\n",
    "        a+=1\n",
    "    a=0    \n",
    "    print()    "
   ]
  },
  {
   "cell_type": "code",
   "execution_count": 68,
   "id": "309c7504",
   "metadata": {},
   "outputs": [
    {
     "name": "stdout",
     "output_type": "stream",
     "text": [
      "{1: 'apple', 2: 'ball', 'brand': 'Ford', 'model': 'Mustang', 'year': 1964}\n"
     ]
    }
   ],
   "source": [
    "#31 merge two dictionaries\n",
    "dica={1: 'apple', 2: 'ball'}\n",
    "dicb= {\"brand\": \"Ford\",\"model\": \"Mustang\",\"year\": 1964}\n",
    "def merge(dica,dicb):\n",
    "    return(dica.update(dicb))\n",
    "(merge(dica, dicb))\n",
    "print(dica)"
   ]
  },
  {
   "cell_type": "code",
   "execution_count": 71,
   "id": "ad874902",
   "metadata": {},
   "outputs": [
    {
     "name": "stdout",
     "output_type": "stream",
     "text": [
      "{1: 'apple', 2: 'ball', 3: {'brand': 'Ford', 'model': 'Mustang', 'year': 1964}}\n"
     ]
    }
   ],
   "source": [
    "#32 safely create a nested dictionary\n",
    "dica={1: 'apple', 2: 'ball'}\n",
    "dicb= {\"brand\": \"Ford\",\"model\": \"Mustang\",\"year\": 1964}\n",
    "dica.update({3:dicb})\n",
    "print(dica)"
   ]
  },
  {
   "cell_type": "code",
   "execution_count": 84,
   "id": "8e36beb6",
   "metadata": {},
   "outputs": [
    {
     "name": "stdout",
     "output_type": "stream",
     "text": [
      "['apple', 'apple', 'banana', 'cherry', 'cherry']\n",
      "enter the any one name of above to know index no.=apple\n",
      "0\n",
      "3\n"
     ]
    }
   ],
   "source": [
    "#33 access index of a list using for loop\n",
    "l1=[\"apple\", \"banana\", \"cherry\", \"apple\", \"cherry\"]\n",
    "print((l1))\n",
    "n=input(\"enter the any one name of above to know index no.=\")\n",
    "for i in range(len(l1)):\n",
    "    if(n==l1[i]):\n",
    "        p=i\n",
    "        print(p) \n",
    "        continue"
   ]
  },
  {
   "cell_type": "code",
   "execution_count": null,
   "id": "1a967ee3",
   "metadata": {},
   "outputs": [],
   "source": []
  }
 ],
 "metadata": {
  "kernelspec": {
   "display_name": "Python 3",
   "language": "python",
   "name": "python3"
  },
  "language_info": {
   "codemirror_mode": {
    "name": "ipython",
    "version": 3
   },
   "file_extension": ".py",
   "mimetype": "text/x-python",
   "name": "python",
   "nbconvert_exporter": "python",
   "pygments_lexer": "ipython3",
   "version": "3.8.8"
  }
 },
 "nbformat": 4,
 "nbformat_minor": 5
}
